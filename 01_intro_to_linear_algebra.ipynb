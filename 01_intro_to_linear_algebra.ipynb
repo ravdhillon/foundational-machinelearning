{
  "nbformat": 4,
  "nbformat_minor": 0,
  "metadata": {
    "colab": {
      "provenance": [],
      "authorship_tag": "ABX9TyM6x3Mpx9Vk55pLmn5x+jxe",
      "include_colab_link": true
    },
    "kernelspec": {
      "name": "python3",
      "display_name": "Python 3"
    },
    "language_info": {
      "name": "python"
    }
  },
  "cells": [
    {
      "cell_type": "markdown",
      "metadata": {
        "id": "view-in-github",
        "colab_type": "text"
      },
      "source": [
        "<a href=\"https://colab.research.google.com/github/ravdhillon/foundational-machinelearning/blob/master/01_intro_to_linear_algebra.ipynb\" target=\"_parent\"><img src=\"https://colab.research.google.com/assets/colab-badge.svg\" alt=\"Open In Colab\"/></a>"
      ]
    },
    {
      "cell_type": "markdown",
      "source": [
        "## **Intro to Linear Algebra**\n",
        "This notebook covers the foundation for ML - *Introduction to Linear Algebra*"
      ],
      "metadata": {
        "id": "SBrc7zUClTiD"
      }
    },
    {
      "cell_type": "markdown",
      "source": [
        "#### **Topic: Data structure for Algebra**\n",
        "**Scalars (Rank 0 Tensors)**"
      ],
      "metadata": {
        "id": "CoxKVdhQlJJ5"
      }
    },
    {
      "cell_type": "code",
      "source": [
        "x = 25"
      ],
      "metadata": {
        "id": "VdPpvrpIoyoG"
      },
      "execution_count": null,
      "outputs": []
    },
    {
      "cell_type": "code",
      "source": [
        "type(x)"
      ],
      "metadata": {
        "colab": {
          "base_uri": "https://localhost:8080/"
        },
        "id": "zrqHHkIJoz0l",
        "outputId": "b19203b6-197b-418c-cd42-2c83f053e0ef"
      },
      "execution_count": null,
      "outputs": [
        {
          "output_type": "execute_result",
          "data": {
            "text/plain": [
              "int"
            ]
          },
          "metadata": {},
          "execution_count": 2
        }
      ]
    },
    {
      "cell_type": "code",
      "source": [],
      "metadata": {
        "id": "45kWj9RAo3vL"
      },
      "execution_count": null,
      "outputs": []
    }
  ]
}