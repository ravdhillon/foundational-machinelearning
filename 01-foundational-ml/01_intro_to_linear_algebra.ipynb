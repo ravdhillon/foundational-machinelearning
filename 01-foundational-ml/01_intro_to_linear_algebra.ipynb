{
  "nbformat": 4,
  "nbformat_minor": 0,
  "metadata": {
    "colab": {
      "provenance": [],
      "authorship_tag": "ABX9TyPJrSpbAxEuEV6z1SvXrE7q",
      "include_colab_link": true
    },
    "kernelspec": {
      "name": "python3",
      "display_name": "Python 3"
    },
    "language_info": {
      "name": "python"
    }
  },
  "cells": [
    {
      "cell_type": "markdown",
      "metadata": {
        "id": "view-in-github",
        "colab_type": "text"
      },
      "source": [
        "<a href=\"https://colab.research.google.com/github/ravdhillon/foundational-machinelearning/blob/master/01_intro_to_linear_algebra.ipynb\" target=\"_parent\"><img src=\"https://colab.research.google.com/assets/colab-badge.svg\" alt=\"Open In Colab\"/></a>"
      ]
    },
    {
      "cell_type": "markdown",
      "source": [
        "## **Intro to Linear Algebra**\n",
        "This notebook covers the foundation for ML - *Introduction to Linear Algebra*"
      ],
      "metadata": {
        "id": "SBrc7zUClTiD"
      }
    },
    {
      "cell_type": "markdown",
      "source": [
        "#### **Topic: Data structure for Algebra**\n",
        "**Scalars (Rank 0 Tensors)** - They have no dimenions.\n",
        "\n",
        "**Python version**"
      ],
      "metadata": {
        "id": "CoxKVdhQlJJ5"
      }
    },
    {
      "cell_type": "code",
      "source": [
        "x = 25"
      ],
      "metadata": {
        "id": "VdPpvrpIoyoG"
      },
      "execution_count": 1,
      "outputs": []
    },
    {
      "cell_type": "code",
      "source": [
        "type(x)"
      ],
      "metadata": {
        "colab": {
          "base_uri": "https://localhost:8080/"
        },
        "id": "zrqHHkIJoz0l",
        "outputId": "b19203b6-197b-418c-cd42-2c83f053e0ef"
      },
      "execution_count": 2,
      "outputs": [
        {
          "output_type": "execute_result",
          "data": {
            "text/plain": [
              "int"
            ]
          },
          "metadata": {},
          "execution_count": 2
        }
      ]
    },
    {
      "cell_type": "markdown",
      "source": [
        "**PyTorch version**\n",
        "\n",
        "\n",
        "*   The tensors in PyTorch are designed to be pythonic - meaning they behave like Numpy arrays.\n",
        "*   The advantage over the **NumPy arrays** is that they are easily be used for operations in GPU.\n",
        "\n"
      ],
      "metadata": {
        "id": "QGulZjLTqRWL"
      }
    },
    {
      "cell_type": "code",
      "source": [
        "import torch"
      ],
      "metadata": {
        "id": "45kWj9RAo3vL"
      },
      "execution_count": 3,
      "outputs": []
    },
    {
      "cell_type": "code",
      "source": [
        "x_pt = torch.tensor(25)\n",
        "x_pt"
      ],
      "metadata": {
        "colab": {
          "base_uri": "https://localhost:8080/"
        },
        "id": "95by3JWNqY1_",
        "outputId": "d8cd1e4b-1b0a-48c3-9d1e-e69c8d08e101"
      },
      "execution_count": 4,
      "outputs": [
        {
          "output_type": "execute_result",
          "data": {
            "text/plain": [
              "tensor(25)"
            ]
          },
          "metadata": {},
          "execution_count": 4
        }
      ]
    },
    {
      "cell_type": "code",
      "source": [
        "type(x_pt)"
      ],
      "metadata": {
        "colab": {
          "base_uri": "https://localhost:8080/"
        },
        "id": "Lnte5eWyqgg5",
        "outputId": "9e7372de-0f01-43ca-e641-9a1e551a6856"
      },
      "execution_count": 5,
      "outputs": [
        {
          "output_type": "execute_result",
          "data": {
            "text/plain": [
              "torch.Tensor"
            ]
          },
          "metadata": {},
          "execution_count": 5
        }
      ]
    },
    {
      "cell_type": "code",
      "source": [
        "x_pt.shape"
      ],
      "metadata": {
        "colab": {
          "base_uri": "https://localhost:8080/"
        },
        "id": "biIw5Fqhqi3y",
        "outputId": "4d4635e8-c6d9-413e-f76c-83c850e9b6c9"
      },
      "execution_count": 7,
      "outputs": [
        {
          "output_type": "execute_result",
          "data": {
            "text/plain": [
              "torch.Size([])"
            ]
          },
          "metadata": {},
          "execution_count": 7
        }
      ]
    },
    {
      "cell_type": "markdown",
      "source": [
        "**Tensorflow version**\n",
        "\n",
        "They are created using a *wrapper* of any of the following type:\n",
        "\n",
        "\n",
        "*   `tf.Variable`\n",
        "*   `tf.constant`\n",
        "*   `tf.placeholder`\n",
        "\n",
        "*Note: we can easily convert tensor to NumPy arrays and vice versa using numpy operations*\n",
        "\n"
      ],
      "metadata": {
        "id": "vu6wZbyVr6YE"
      }
    },
    {
      "cell_type": "code",
      "source": [
        "import tensorflow as tf"
      ],
      "metadata": {
        "id": "nY5sWrLpsKEH"
      },
      "execution_count": 8,
      "outputs": []
    },
    {
      "cell_type": "code",
      "source": [
        "x_tf = tf.Variable(25)\n",
        "x_tf"
      ],
      "metadata": {
        "colab": {
          "base_uri": "https://localhost:8080/"
        },
        "id": "gWa5nfgzrW0U",
        "outputId": "87a83b5a-d5e1-454b-866c-b5caa19d493b"
      },
      "execution_count": 9,
      "outputs": [
        {
          "output_type": "execute_result",
          "data": {
            "text/plain": [
              "<tf.Variable 'Variable:0' shape=() dtype=int32, numpy=25>"
            ]
          },
          "metadata": {},
          "execution_count": 9
        }
      ]
    },
    {
      "cell_type": "code",
      "source": [
        "x_tf.shape"
      ],
      "metadata": {
        "colab": {
          "base_uri": "https://localhost:8080/"
        },
        "id": "iynNowOYs49e",
        "outputId": "5647960f-f3f9-4e9b-e376-1704bf9528ee"
      },
      "execution_count": 10,
      "outputs": [
        {
          "output_type": "execute_result",
          "data": {
            "text/plain": [
              "TensorShape([])"
            ]
          },
          "metadata": {},
          "execution_count": 10
        }
      ]
    },
    {
      "cell_type": "code",
      "source": [
        "sum_tf = x_tf + 10 # tensor.add(x_tf, 10)\n",
        "sum_tf"
      ],
      "metadata": {
        "colab": {
          "base_uri": "https://localhost:8080/"
        },
        "id": "UgJR337xs-EF",
        "outputId": "22078eee-a61b-4f5c-d7d1-3701c499832c"
      },
      "execution_count": 11,
      "outputs": [
        {
          "output_type": "execute_result",
          "data": {
            "text/plain": [
              "<tf.Tensor: shape=(), dtype=int32, numpy=35>"
            ]
          },
          "metadata": {},
          "execution_count": 11
        }
      ]
    },
    {
      "cell_type": "code",
      "source": [
        "# Numpy Operations\n",
        "sum_tf.numpy()"
      ],
      "metadata": {
        "colab": {
          "base_uri": "https://localhost:8080/"
        },
        "id": "i6FzKbAEtYuR",
        "outputId": "4037a247-9615-45a0-f31e-a1acc8dab6da"
      },
      "execution_count": 13,
      "outputs": [
        {
          "output_type": "execute_result",
          "data": {
            "text/plain": [
              "35"
            ]
          },
          "metadata": {},
          "execution_count": 13
        }
      ]
    },
    {
      "cell_type": "code",
      "source": [
        "type(sum_tf.numpy())"
      ],
      "metadata": {
        "colab": {
          "base_uri": "https://localhost:8080/"
        },
        "id": "ysDKbImJtg1P",
        "outputId": "bffc0646-5fa4-4813-ac30-653b379189e5"
      },
      "execution_count": 14,
      "outputs": [
        {
          "output_type": "execute_result",
          "data": {
            "text/plain": [
              "numpy.int32"
            ]
          },
          "metadata": {},
          "execution_count": 14
        }
      ]
    },
    {
      "cell_type": "code",
      "source": [],
      "metadata": {
        "id": "wzZk9gljt0nL"
      },
      "execution_count": null,
      "outputs": []
    }
  ]
}